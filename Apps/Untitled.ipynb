{
 "cells": [
  {
   "cell_type": "markdown",
   "id": "1d6ec4ef-5580-4ce5-a266-30edaed9d197",
   "metadata": {},
   "source": [
    "## 분석할 것들\n",
    "어떤 것을 분석해야 할까?\n",
    "\n",
    "1. global 평균 독서 시간\n",
    "2. 개인 독서 시간\n",
    "3. 키워드 분석\n",
    "4. "
   ]
  },
  {
   "cell_type": "markdown",
   "id": "de290deb-7a13-49c1-aa20-628b48d36322",
   "metadata": {},
   "source": [
    "$ V \\approx S = \\frac{D_p \\times r}{T} \\times F$  \n",
    "$ B_r = 4.3 \\times 1.35 $  \n",
    "$ B_p : B_r = D_p : D_r$  \n",
    "$ D_r = \\frac{B_r \\times D_p}{B_r} $  \n",
    "$ r = \\frac{B_r}{B_p}$"
   ]
  },
  {
   "cell_type": "code",
   "execution_count": 135,
   "id": "8653eb1d-4f71-4359-84be-062732599f4d",
   "metadata": {},
   "outputs": [],
   "source": [
    "import numpy as np\n",
    "import pandas as pd\n",
    "from datetime import datetime, date\n",
    "import re\n",
    "\n",
    "import matplotlib as mpl\n",
    "import matplotlib.pyplot as plt\n",
    "import matplotlib.font_manager as fm\n",
    "\n",
    "from wordcloud import WordCloud\n",
    "from wordcloud import STOPWORDS\n",
    "\n",
    "from konlpy.tag import Twitter\n",
    "from collections import Counter\n",
    "\n",
    "pd.set_option('display.max_rows', None)\n",
    "pd.set_option('display.max_columns', None)\n",
    "plt.rc('font', family='NanumGothic') # For Windows"
   ]
  },
  {
   "cell_type": "code",
   "execution_count": 2,
   "id": "94458183-d7ed-4fbc-a0a5-4f03353f169e",
   "metadata": {},
   "outputs": [],
   "source": [
    "font_location = \"C:\\\\Users\\\\kyeul\\\\anaconda3\\\\Lib\\\\site-packages\\\\matplotlib\\\\mpl-data\\\\fonts\\\\ttf\\\\NanumGothic.ttf\"\n",
    "font_name = fm.FontProperties(fname=font_location).get_name()\n",
    "mpl.rc('font', family=font_name)"
   ]
  },
  {
   "cell_type": "code",
   "execution_count": 3,
   "id": "e56aa989-a286-485f-82d9-d1d0a5136e07",
   "metadata": {},
   "outputs": [],
   "source": [
    "record = pd.read_csv('record.csv')"
   ]
  },
  {
   "cell_type": "code",
   "execution_count": 4,
   "id": "8c5c97bd-3cdf-48ef-b203-98050f96a58b",
   "metadata": {},
   "outputs": [
    {
     "name": "stdout",
     "output_type": "stream",
     "text": [
      "<class 'pandas.core.frame.DataFrame'>\n",
      "RangeIndex: 162 entries, 0 to 161\n",
      "Data columns (total 10 columns):\n",
      " #   Column                 Non-Null Count  Dtype \n",
      "---  ------                 --------------  ----- \n",
      " 0   타임스탬프                  162 non-null    object\n",
      " 1   이름                     162 non-null    object\n",
      " 2   독서_날짜                  162 non-null    object\n",
      " 3   책 제목                   162 non-null    object\n",
      " 4   시작 페이지                 162 non-null    int64 \n",
      " 5   종료 페이지                 162 non-null    int64 \n",
      " 6   쪽수                     162 non-null    int64 \n",
      " 7   독서 시간(분단위, 단위는 입력  x)  162 non-null    int64 \n",
      " 8   오늘의 문장                 140 non-null    object\n",
      " 9   날짜                     162 non-null    object\n",
      "dtypes: int64(4), object(6)\n",
      "memory usage: 12.8+ KB\n"
     ]
    }
   ],
   "source": [
    "record.info()"
   ]
  },
  {
   "cell_type": "code",
   "execution_count": 5,
   "id": "ef1f3b1d-a4ee-4a86-a51f-574c7f49db8d",
   "metadata": {},
   "outputs": [
    {
     "data": {
      "text/html": [
       "<div>\n",
       "<style scoped>\n",
       "    .dataframe tbody tr th:only-of-type {\n",
       "        vertical-align: middle;\n",
       "    }\n",
       "\n",
       "    .dataframe tbody tr th {\n",
       "        vertical-align: top;\n",
       "    }\n",
       "\n",
       "    .dataframe thead th {\n",
       "        text-align: right;\n",
       "    }\n",
       "</style>\n",
       "<table border=\"1\" class=\"dataframe\">\n",
       "  <thead>\n",
       "    <tr style=\"text-align: right;\">\n",
       "      <th></th>\n",
       "      <th>시작 페이지</th>\n",
       "      <th>종료 페이지</th>\n",
       "      <th>쪽수</th>\n",
       "      <th>독서 시간(분단위, 단위는 입력  x)</th>\n",
       "    </tr>\n",
       "  </thead>\n",
       "  <tbody>\n",
       "    <tr>\n",
       "      <th>count</th>\n",
       "      <td>162.000000</td>\n",
       "      <td>162.000000</td>\n",
       "      <td>162.000000</td>\n",
       "      <td>162.000000</td>\n",
       "    </tr>\n",
       "    <tr>\n",
       "      <th>mean</th>\n",
       "      <td>137.666667</td>\n",
       "      <td>171.802469</td>\n",
       "      <td>34.135802</td>\n",
       "      <td>30.135802</td>\n",
       "    </tr>\n",
       "    <tr>\n",
       "      <th>std</th>\n",
       "      <td>103.507494</td>\n",
       "      <td>103.666321</td>\n",
       "      <td>35.636799</td>\n",
       "      <td>22.917759</td>\n",
       "    </tr>\n",
       "    <tr>\n",
       "      <th>min</th>\n",
       "      <td>1.000000</td>\n",
       "      <td>8.000000</td>\n",
       "      <td>4.000000</td>\n",
       "      <td>5.000000</td>\n",
       "    </tr>\n",
       "    <tr>\n",
       "      <th>25%</th>\n",
       "      <td>56.000000</td>\n",
       "      <td>94.250000</td>\n",
       "      <td>15.000000</td>\n",
       "      <td>15.000000</td>\n",
       "    </tr>\n",
       "    <tr>\n",
       "      <th>50%</th>\n",
       "      <td>125.000000</td>\n",
       "      <td>162.500000</td>\n",
       "      <td>25.500000</td>\n",
       "      <td>26.000000</td>\n",
       "    </tr>\n",
       "    <tr>\n",
       "      <th>75%</th>\n",
       "      <td>201.500000</td>\n",
       "      <td>234.250000</td>\n",
       "      <td>42.000000</td>\n",
       "      <td>31.000000</td>\n",
       "    </tr>\n",
       "    <tr>\n",
       "      <th>max</th>\n",
       "      <td>513.000000</td>\n",
       "      <td>553.000000</td>\n",
       "      <td>323.000000</td>\n",
       "      <td>230.000000</td>\n",
       "    </tr>\n",
       "  </tbody>\n",
       "</table>\n",
       "</div>"
      ],
      "text/plain": [
       "           시작 페이지      종료 페이지          쪽수  독서 시간(분단위, 단위는 입력  x)\n",
       "count  162.000000  162.000000  162.000000             162.000000\n",
       "mean   137.666667  171.802469   34.135802              30.135802\n",
       "std    103.507494  103.666321   35.636799              22.917759\n",
       "min      1.000000    8.000000    4.000000               5.000000\n",
       "25%     56.000000   94.250000   15.000000              15.000000\n",
       "50%    125.000000  162.500000   25.500000              26.000000\n",
       "75%    201.500000  234.250000   42.000000              31.000000\n",
       "max    513.000000  553.000000  323.000000             230.000000"
      ]
     },
     "execution_count": 5,
     "metadata": {},
     "output_type": "execute_result"
    }
   ],
   "source": [
    "record.describe()"
   ]
  },
  {
   "cell_type": "markdown",
   "id": "a284f66b-2a7f-4b78-93e6-ba9d150f5190",
   "metadata": {},
   "source": [
    "# 전처리"
   ]
  },
  {
   "cell_type": "markdown",
   "id": "eefc28cb-4f6b-4f0e-9f42-27f70a2399d0",
   "metadata": {},
   "source": [
    "어떤 data를 사용할 것인가. \n",
    "1. 날짜\n",
    "2. 시간대 -> 개인이 주로 언제 책을 읽는지\n",
    "3. 독서량\n",
    "4. 독서시간 \n",
    "5. 분당 독서량\n",
    "6. 키워드"
   ]
  },
  {
   "cell_type": "code",
   "execution_count": 6,
   "id": "f345bc8f-8e63-4c2a-a54f-17ba0a2ec0e3",
   "metadata": {},
   "outputs": [],
   "source": [
    "def makeAnnonimous(x):\n",
    "    names = ['박한', '김동혁', '김효임', '박결', '김예지']\n",
    "    annoni = ['member1', 'member2', 'member3', 'member4', 'member5']\n",
    "    \n",
    "    return annoni[names.index(x)]\n",
    "    "
   ]
  },
  {
   "cell_type": "code",
   "execution_count": 7,
   "id": "49a584d9-5879-4a8b-96f6-458daf6466a9",
   "metadata": {},
   "outputs": [],
   "source": [
    "record['이름'] = record['이름'].apply(lambda x: makeAnnonimous(x))"
   ]
  },
  {
   "cell_type": "code",
   "execution_count": 8,
   "id": "e602a413-56b3-4ba6-8ab2-cca7835d8213",
   "metadata": {},
   "outputs": [
    {
     "data": {
      "text/plain": [
       "array(['member1', 'member2', 'member3', 'member4', 'member5'],\n",
       "      dtype=object)"
      ]
     },
     "execution_count": 8,
     "metadata": {},
     "output_type": "execute_result"
    }
   ],
   "source": [
    "record.이름.unique()"
   ]
  },
  {
   "cell_type": "code",
   "execution_count": 9,
   "id": "740aea17-0468-49b4-8828-e82618b5885f",
   "metadata": {},
   "outputs": [],
   "source": [
    "def make24hour(x):\n",
    "    lst = x.split(' ')[3:]\n",
    "    time = int(lst[1].split(':')[0])\n",
    "    \n",
    "    if lst[0] == '오후':\n",
    "        if time == 12:\n",
    "            return time\n",
    "        else:\n",
    "            time += 12\n",
    "        \n",
    "    elif lst[0] == '오전' and time == 12:\n",
    "        time = 0\n",
    "    return time"
   ]
  },
  {
   "cell_type": "code",
   "execution_count": 10,
   "id": "b30eef34-43b9-4b99-977f-1c2acaa255ed",
   "metadata": {},
   "outputs": [],
   "source": [
    "record['타임스탬프'] = record['타임스탬프'].apply(lambda x: make24hour(x))"
   ]
  },
  {
   "cell_type": "code",
   "execution_count": 11,
   "id": "c6d78bf1-c264-4e0b-886a-9b60c4a58a90",
   "metadata": {},
   "outputs": [
    {
     "data": {
      "text/html": [
       "<div>\n",
       "<style scoped>\n",
       "    .dataframe tbody tr th:only-of-type {\n",
       "        vertical-align: middle;\n",
       "    }\n",
       "\n",
       "    .dataframe tbody tr th {\n",
       "        vertical-align: top;\n",
       "    }\n",
       "\n",
       "    .dataframe thead th {\n",
       "        text-align: right;\n",
       "    }\n",
       "</style>\n",
       "<table border=\"1\" class=\"dataframe\">\n",
       "  <thead>\n",
       "    <tr style=\"text-align: right;\">\n",
       "      <th></th>\n",
       "      <th>타임스탬프</th>\n",
       "      <th>시작 페이지</th>\n",
       "      <th>종료 페이지</th>\n",
       "      <th>쪽수</th>\n",
       "      <th>독서 시간(분단위, 단위는 입력  x)</th>\n",
       "    </tr>\n",
       "  </thead>\n",
       "  <tbody>\n",
       "    <tr>\n",
       "      <th>count</th>\n",
       "      <td>162.000000</td>\n",
       "      <td>162.000000</td>\n",
       "      <td>162.000000</td>\n",
       "      <td>162.000000</td>\n",
       "      <td>162.000000</td>\n",
       "    </tr>\n",
       "    <tr>\n",
       "      <th>mean</th>\n",
       "      <td>11.586420</td>\n",
       "      <td>137.666667</td>\n",
       "      <td>171.802469</td>\n",
       "      <td>34.135802</td>\n",
       "      <td>30.135802</td>\n",
       "    </tr>\n",
       "    <tr>\n",
       "      <th>std</th>\n",
       "      <td>8.914811</td>\n",
       "      <td>103.507494</td>\n",
       "      <td>103.666321</td>\n",
       "      <td>35.636799</td>\n",
       "      <td>22.917759</td>\n",
       "    </tr>\n",
       "    <tr>\n",
       "      <th>min</th>\n",
       "      <td>0.000000</td>\n",
       "      <td>1.000000</td>\n",
       "      <td>8.000000</td>\n",
       "      <td>4.000000</td>\n",
       "      <td>5.000000</td>\n",
       "    </tr>\n",
       "    <tr>\n",
       "      <th>25%</th>\n",
       "      <td>2.250000</td>\n",
       "      <td>56.000000</td>\n",
       "      <td>94.250000</td>\n",
       "      <td>15.000000</td>\n",
       "      <td>15.000000</td>\n",
       "    </tr>\n",
       "    <tr>\n",
       "      <th>50%</th>\n",
       "      <td>8.500000</td>\n",
       "      <td>125.000000</td>\n",
       "      <td>162.500000</td>\n",
       "      <td>25.500000</td>\n",
       "      <td>26.000000</td>\n",
       "    </tr>\n",
       "    <tr>\n",
       "      <th>75%</th>\n",
       "      <td>22.000000</td>\n",
       "      <td>201.500000</td>\n",
       "      <td>234.250000</td>\n",
       "      <td>42.000000</td>\n",
       "      <td>31.000000</td>\n",
       "    </tr>\n",
       "    <tr>\n",
       "      <th>max</th>\n",
       "      <td>23.000000</td>\n",
       "      <td>513.000000</td>\n",
       "      <td>553.000000</td>\n",
       "      <td>323.000000</td>\n",
       "      <td>230.000000</td>\n",
       "    </tr>\n",
       "  </tbody>\n",
       "</table>\n",
       "</div>"
      ],
      "text/plain": [
       "            타임스탬프      시작 페이지      종료 페이지          쪽수  독서 시간(분단위, 단위는 입력  x)\n",
       "count  162.000000  162.000000  162.000000  162.000000             162.000000\n",
       "mean    11.586420  137.666667  171.802469   34.135802              30.135802\n",
       "std      8.914811  103.507494  103.666321   35.636799              22.917759\n",
       "min      0.000000    1.000000    8.000000    4.000000               5.000000\n",
       "25%      2.250000   56.000000   94.250000   15.000000              15.000000\n",
       "50%      8.500000  125.000000  162.500000   25.500000              26.000000\n",
       "75%     22.000000  201.500000  234.250000   42.000000              31.000000\n",
       "max     23.000000  513.000000  553.000000  323.000000             230.000000"
      ]
     },
     "execution_count": 11,
     "metadata": {},
     "output_type": "execute_result"
    }
   ],
   "source": [
    "record.describe()"
   ]
  },
  {
   "cell_type": "code",
   "execution_count": 12,
   "id": "2939c78e-d76e-449c-b64b-565172ed4087",
   "metadata": {},
   "outputs": [
    {
     "data": {
      "text/plain": [
       "Index(['타임스탬프', '이름', '독서_날짜', '책 제목', '시작 페이지', '종료 페이지', '쪽수',\n",
       "       '독서 시간(분단위, 단위는 입력  x)', '오늘의 문장', '날짜'],\n",
       "      dtype='object')"
      ]
     },
     "execution_count": 12,
     "metadata": {},
     "output_type": "execute_result"
    }
   ],
   "source": [
    "record.columns"
   ]
  },
  {
   "cell_type": "code",
   "execution_count": 13,
   "id": "08d5e19c-6f5e-490d-ad8f-ecdaab65720d",
   "metadata": {},
   "outputs": [],
   "source": [
    "df = record[['타임스탬프', '이름', '책 제목', '쪽수', '독서 시간(분단위, 단위는 입력  x)', '오늘의 문장', '날짜']]"
   ]
  },
  {
   "cell_type": "code",
   "execution_count": 14,
   "id": "d5be7998-ec18-4a08-b5e2-ed77f3ed16d8",
   "metadata": {},
   "outputs": [],
   "source": [
    "df=df.rename(columns = {'타임스탬프':'time-stamp', '이름':'user_name', '책 제목':'title','독서 시간(분단위, 단위는 입력  x)': 'reading-times', '쪽수':'reading-pages', '오늘의 문장':'daily_sentence', '날짜':'write_date'})"
   ]
  },
  {
   "cell_type": "code",
   "execution_count": 15,
   "id": "d53d407c-d875-4ddc-b371-3eaaa6fa9ccb",
   "metadata": {},
   "outputs": [
    {
     "data": {
      "text/plain": [
       "Index(['time-stamp', 'user_name', 'title', 'reading-pages', 'reading-times',\n",
       "       'daily_sentence', 'write_date'],\n",
       "      dtype='object')"
      ]
     },
     "execution_count": 15,
     "metadata": {},
     "output_type": "execute_result"
    }
   ],
   "source": [
    "df.columns"
   ]
  },
  {
   "cell_type": "code",
   "execution_count": 16,
   "id": "ceb4f8c1-7002-46a0-8b4d-288dc1089b42",
   "metadata": {},
   "outputs": [
    {
     "data": {
      "text/plain": [
       "user_name  title                                                            \n",
       "member1    생각하지 않는 사람들                                                          14\n",
       "           이어쓰는 조경학개론                                                            5\n",
       "           환경과 조경                                                                5\n",
       "           나는 왜 집중하지 못하는가                                                        3\n",
       "           꿈의 식물                                                                 2\n",
       "           자연정원을 위한 꿈의 식물                                                        2\n",
       "           존도어의 okr                                                              2\n",
       "member2    성과를 부르는 영업의 기술 70                                                     9\n",
       "           성공하는 한국인의 7가지 습관                                                      4\n",
       "           생각하지 않는 사람들                                                           3\n",
       "member3    멘탈의 연금술                                                               9\n",
       "           생각하지 않는 사람들                                                           9\n",
       "           팔지마라 사게하라                                                             3\n",
       "           메타버스 비지니스                                                             1\n",
       "           멘탈의 연금술사                                                              1\n",
       "           멘탈의성공술                                                                1\n",
       "           비즈니스 명저 100                                                           1\n",
       "           실무에서 바로 써먹는 경리                                                        1\n",
       "           제3의 세계 메타버스 비즈니스                                                      1\n",
       "           현대인의 심리학                                                              1\n",
       "member4    생각하지 않는 사람들                                                           6\n",
       "           스시 사이언스                                                               6\n",
       "           야사와 만화로 배우는 인공지능                                                      4\n",
       "           저가 매수의 기술                                                             3\n",
       "           시간과 물에 대하여                                                            2\n",
       "           A transformer-based network for dynamic hand gestures recognition     1\n",
       "           통계학, 빅데이터를 잡다                                                         1\n",
       "member5    생각하지 않는 사람들                                                          11\n",
       "           욕망의 진화                                                               11\n",
       "           타이탄의 도구들                                                              9\n",
       "           Think and grow rich                                                   8\n",
       "           언스크립티드                                                                8\n",
       "           역행자                                                                   5\n",
       "           일 잘하는 사람은 글을 잘 씁니다                                                    4\n",
       "           초집중력                                                                  4\n",
       "           일취월장                                                                  2\n",
       "Name: title, dtype: int64"
      ]
     },
     "execution_count": 16,
     "metadata": {},
     "output_type": "execute_result"
    }
   ],
   "source": [
    "df.groupby('user_name').title.value_counts()"
   ]
  },
  {
   "cell_type": "code",
   "execution_count": 17,
   "id": "ac907b72-8938-4f3c-878c-1e220cd30391",
   "metadata": {},
   "outputs": [
    {
     "data": {
      "text/plain": [
       "array(['이어쓰는 조경학개론', '자연정원을 위한 꿈의 식물', '꿈의 식물', '환경과 조경', '존도어의 okr',\n",
       "       '생각하지 않는 사람들', '나는 왜 집중하지 못하는가'], dtype=object)"
      ]
     },
     "execution_count": 17,
     "metadata": {},
     "output_type": "execute_result"
    }
   ],
   "source": [
    "df[df['user_name']=='member1'].title.unique()"
   ]
  },
  {
   "cell_type": "code",
   "execution_count": 18,
   "id": "acd7893f-0606-4175-9ca6-68c019ab7c65",
   "metadata": {},
   "outputs": [
    {
     "data": {
      "text/html": [
       "<div>\n",
       "<style scoped>\n",
       "    .dataframe tbody tr th:only-of-type {\n",
       "        vertical-align: middle;\n",
       "    }\n",
       "\n",
       "    .dataframe tbody tr th {\n",
       "        vertical-align: top;\n",
       "    }\n",
       "\n",
       "    .dataframe thead th {\n",
       "        text-align: right;\n",
       "    }\n",
       "</style>\n",
       "<table border=\"1\" class=\"dataframe\">\n",
       "  <thead>\n",
       "    <tr style=\"text-align: right;\">\n",
       "      <th>time-stamp</th>\n",
       "      <th>0</th>\n",
       "      <th>1</th>\n",
       "      <th>2</th>\n",
       "      <th>3</th>\n",
       "      <th>5</th>\n",
       "      <th>6</th>\n",
       "      <th>7</th>\n",
       "      <th>8</th>\n",
       "      <th>9</th>\n",
       "      <th>10</th>\n",
       "      <th>12</th>\n",
       "      <th>14</th>\n",
       "      <th>15</th>\n",
       "      <th>16</th>\n",
       "      <th>18</th>\n",
       "      <th>19</th>\n",
       "      <th>20</th>\n",
       "      <th>21</th>\n",
       "      <th>22</th>\n",
       "      <th>23</th>\n",
       "    </tr>\n",
       "    <tr>\n",
       "      <th>user_name</th>\n",
       "      <th></th>\n",
       "      <th></th>\n",
       "      <th></th>\n",
       "      <th></th>\n",
       "      <th></th>\n",
       "      <th></th>\n",
       "      <th></th>\n",
       "      <th></th>\n",
       "      <th></th>\n",
       "      <th></th>\n",
       "      <th></th>\n",
       "      <th></th>\n",
       "      <th></th>\n",
       "      <th></th>\n",
       "      <th></th>\n",
       "      <th></th>\n",
       "      <th></th>\n",
       "      <th></th>\n",
       "      <th></th>\n",
       "      <th></th>\n",
       "    </tr>\n",
       "  </thead>\n",
       "  <tbody>\n",
       "    <tr>\n",
       "      <th>member1</th>\n",
       "      <td>1</td>\n",
       "      <td>0</td>\n",
       "      <td>0</td>\n",
       "      <td>0</td>\n",
       "      <td>0</td>\n",
       "      <td>0</td>\n",
       "      <td>0</td>\n",
       "      <td>0</td>\n",
       "      <td>0</td>\n",
       "      <td>2</td>\n",
       "      <td>0</td>\n",
       "      <td>0</td>\n",
       "      <td>0</td>\n",
       "      <td>0</td>\n",
       "      <td>1</td>\n",
       "      <td>0</td>\n",
       "      <td>2</td>\n",
       "      <td>8</td>\n",
       "      <td>13</td>\n",
       "      <td>6</td>\n",
       "    </tr>\n",
       "    <tr>\n",
       "      <th>member2</th>\n",
       "      <td>4</td>\n",
       "      <td>0</td>\n",
       "      <td>0</td>\n",
       "      <td>0</td>\n",
       "      <td>0</td>\n",
       "      <td>0</td>\n",
       "      <td>0</td>\n",
       "      <td>0</td>\n",
       "      <td>0</td>\n",
       "      <td>0</td>\n",
       "      <td>0</td>\n",
       "      <td>0</td>\n",
       "      <td>0</td>\n",
       "      <td>0</td>\n",
       "      <td>0</td>\n",
       "      <td>2</td>\n",
       "      <td>0</td>\n",
       "      <td>0</td>\n",
       "      <td>1</td>\n",
       "      <td>9</td>\n",
       "    </tr>\n",
       "    <tr>\n",
       "      <th>member3</th>\n",
       "      <td>12</td>\n",
       "      <td>8</td>\n",
       "      <td>4</td>\n",
       "      <td>1</td>\n",
       "      <td>0</td>\n",
       "      <td>0</td>\n",
       "      <td>0</td>\n",
       "      <td>1</td>\n",
       "      <td>0</td>\n",
       "      <td>0</td>\n",
       "      <td>0</td>\n",
       "      <td>0</td>\n",
       "      <td>0</td>\n",
       "      <td>0</td>\n",
       "      <td>0</td>\n",
       "      <td>0</td>\n",
       "      <td>0</td>\n",
       "      <td>0</td>\n",
       "      <td>0</td>\n",
       "      <td>2</td>\n",
       "    </tr>\n",
       "    <tr>\n",
       "      <th>member4</th>\n",
       "      <td>2</td>\n",
       "      <td>5</td>\n",
       "      <td>3</td>\n",
       "      <td>0</td>\n",
       "      <td>0</td>\n",
       "      <td>1</td>\n",
       "      <td>1</td>\n",
       "      <td>0</td>\n",
       "      <td>1</td>\n",
       "      <td>0</td>\n",
       "      <td>0</td>\n",
       "      <td>0</td>\n",
       "      <td>0</td>\n",
       "      <td>0</td>\n",
       "      <td>0</td>\n",
       "      <td>0</td>\n",
       "      <td>0</td>\n",
       "      <td>0</td>\n",
       "      <td>6</td>\n",
       "      <td>4</td>\n",
       "    </tr>\n",
       "    <tr>\n",
       "      <th>member5</th>\n",
       "      <td>2</td>\n",
       "      <td>0</td>\n",
       "      <td>0</td>\n",
       "      <td>0</td>\n",
       "      <td>1</td>\n",
       "      <td>7</td>\n",
       "      <td>16</td>\n",
       "      <td>12</td>\n",
       "      <td>9</td>\n",
       "      <td>1</td>\n",
       "      <td>2</td>\n",
       "      <td>1</td>\n",
       "      <td>2</td>\n",
       "      <td>1</td>\n",
       "      <td>0</td>\n",
       "      <td>0</td>\n",
       "      <td>0</td>\n",
       "      <td>0</td>\n",
       "      <td>4</td>\n",
       "      <td>4</td>\n",
       "    </tr>\n",
       "  </tbody>\n",
       "</table>\n",
       "</div>"
      ],
      "text/plain": [
       "time-stamp  0   1   2   3   5   6   7   8   9   10  12  14  15  16  18  19  \\\n",
       "user_name                                                                    \n",
       "member1      1   0   0   0   0   0   0   0   0   2   0   0   0   0   1   0   \n",
       "member2      4   0   0   0   0   0   0   0   0   0   0   0   0   0   0   2   \n",
       "member3     12   8   4   1   0   0   0   1   0   0   0   0   0   0   0   0   \n",
       "member4      2   5   3   0   0   1   1   0   1   0   0   0   0   0   0   0   \n",
       "member5      2   0   0   0   1   7  16  12   9   1   2   1   2   1   0   0   \n",
       "\n",
       "time-stamp  20  21  22  23  \n",
       "user_name                   \n",
       "member1      2   8  13   6  \n",
       "member2      0   0   1   9  \n",
       "member3      0   0   0   2  \n",
       "member4      0   0   6   4  \n",
       "member5      0   0   4   4  "
      ]
     },
     "execution_count": 18,
     "metadata": {},
     "output_type": "execute_result"
    }
   ],
   "source": [
    "#독서 시간대 확인\n",
    "df_time = df.groupby('user_name')['time-stamp'].value_counts().unstack().fillna(0).astype('int')\n",
    "df_time"
   ]
  },
  {
   "cell_type": "code",
   "execution_count": 142,
   "id": "7835e266-5fb3-42f0-a6d6-8b0790682186",
   "metadata": {},
   "outputs": [
    {
     "data": {
      "image/png": "[encoded data removed]",
      "text/plain": [
       "<Figure size 2160x720 with 1 Axes>"
      ]
     },
     "metadata": {
      "needs_background": "light"
     },
     "output_type": "display_data"
    }
   ],
   "source": [
    "# 독서 시간대 바 차트로 그리기\n",
    "\n",
    "df_time.T.plot.bar(width=1, figsize=(30, 10))\n",
    "plt.rc('axes', labelsize=20)                                      \n",
    "plt.rc('ytick', labelsize=30)\n",
    "plt.rc('xtick', labelsize=30)\n",
    "plt.legend(loc='lower left', bbox_to_anchor=(1, 0.5), fontsize=20)\n",
    "plt.xlabel('Time')\n",
    "plt.show()"
   ]
  },
  {
   "cell_type": "code",
   "execution_count": 20,
   "id": "7e185955-8ff4-4632-8716-cfb507630805",
   "metadata": {},
   "outputs": [],
   "source": [
    "def get_day(date):\n",
    "    \n",
    "    days = ['Mon', 'Tue', 'Wed', 'Thu', 'Fri', 'Sat', 'Sun']\n",
    "    date = date.rstrip(' ')\n",
    "    date = datetime.strptime(date, '%Y-%m-%d')\n",
    "    day = date.weekday()\n",
    "    return days[day]"
   ]
  },
  {
   "cell_type": "code",
   "execution_count": 21,
   "id": "5753b995-f925-4e07-a87d-cdd36a374c8b",
   "metadata": {},
   "outputs": [
    {
     "data": {
      "text/html": [
       "<div>\n",
       "<style scoped>\n",
       "    .dataframe tbody tr th:only-of-type {\n",
       "        vertical-align: middle;\n",
       "    }\n",
       "\n",
       "    .dataframe tbody tr th {\n",
       "        vertical-align: top;\n",
       "    }\n",
       "\n",
       "    .dataframe thead th {\n",
       "        text-align: right;\n",
       "    }\n",
       "</style>\n",
       "<table border=\"1\" class=\"dataframe\">\n",
       "  <thead>\n",
       "    <tr style=\"text-align: right;\">\n",
       "      <th></th>\n",
       "      <th>time-stamp</th>\n",
       "      <th>user_name</th>\n",
       "      <th>title</th>\n",
       "      <th>reading-pages</th>\n",
       "      <th>reading-times</th>\n",
       "      <th>daily_sentence</th>\n",
       "      <th>write_date</th>\n",
       "    </tr>\n",
       "  </thead>\n",
       "  <tbody>\n",
       "    <tr>\n",
       "      <th>0</th>\n",
       "      <td>22</td>\n",
       "      <td>member1</td>\n",
       "      <td>이어쓰는 조경학개론</td>\n",
       "      <td>17</td>\n",
       "      <td>20</td>\n",
       "      <td>NaN</td>\n",
       "      <td>2022. 3. 28</td>\n",
       "    </tr>\n",
       "    <tr>\n",
       "      <th>1</th>\n",
       "      <td>0</td>\n",
       "      <td>member2</td>\n",
       "      <td>성공하는 한국인의 7가지 습관</td>\n",
       "      <td>11</td>\n",
       "      <td>30</td>\n",
       "      <td>부분보다 전체를 보는 지혜</td>\n",
       "      <td>2022. 3. 29</td>\n",
       "    </tr>\n",
       "    <tr>\n",
       "      <th>2</th>\n",
       "      <td>0</td>\n",
       "      <td>member3</td>\n",
       "      <td>멘탈의 연금술</td>\n",
       "      <td>31</td>\n",
       "      <td>15</td>\n",
       "      <td>황금은 채굴되는 것이 아니다. 만들어지는 것이다.\\n\\n</td>\n",
       "      <td>2022. 3. 29</td>\n",
       "    </tr>\n",
       "    <tr>\n",
       "      <th>3</th>\n",
       "      <td>2</td>\n",
       "      <td>member4</td>\n",
       "      <td>통계학, 빅데이터를 잡다</td>\n",
       "      <td>22</td>\n",
       "      <td>30</td>\n",
       "      <td>NaN</td>\n",
       "      <td>2022. 3. 29</td>\n",
       "    </tr>\n",
       "    <tr>\n",
       "      <th>4</th>\n",
       "      <td>7</td>\n",
       "      <td>member5</td>\n",
       "      <td>언스크립티드</td>\n",
       "      <td>32</td>\n",
       "      <td>60</td>\n",
       "      <td>세상은 이미 당신의 것이지만, 그것을 손에 넣는 것은 당신의 몫이다</td>\n",
       "      <td>2022. 3. 29</td>\n",
       "    </tr>\n",
       "  </tbody>\n",
       "</table>\n",
       "</div>"
      ],
      "text/plain": [
       "   time-stamp user_name             title  reading-pages  reading-times  \\\n",
       "0          22   member1        이어쓰는 조경학개론             17             20   \n",
       "1           0   member2  성공하는 한국인의 7가지 습관             11             30   \n",
       "2           0   member3           멘탈의 연금술             31             15   \n",
       "3           2   member4     통계학, 빅데이터를 잡다             22             30   \n",
       "4           7   member5            언스크립티드             32             60   \n",
       "\n",
       "                          daily_sentence   write_date  \n",
       "0                                    NaN  2022. 3. 28  \n",
       "1                         부분보다 전체를 보는 지혜  2022. 3. 29  \n",
       "2        황금은 채굴되는 것이 아니다. 만들어지는 것이다.\\n\\n  2022. 3. 29  \n",
       "3                                    NaN  2022. 3. 29  \n",
       "4  세상은 이미 당신의 것이지만, 그것을 손에 넣는 것은 당신의 몫이다  2022. 3. 29  "
      ]
     },
     "execution_count": 21,
     "metadata": {},
     "output_type": "execute_result"
    }
   ],
   "source": [
    "df.head()"
   ]
  },
  {
   "cell_type": "code",
   "execution_count": 22,
   "id": "4861039d-9e7f-446d-941c-7c5f4abc8e7e",
   "metadata": {},
   "outputs": [
    {
     "data": {
      "text/plain": [
       "datetime.date"
      ]
     },
     "execution_count": 22,
     "metadata": {},
     "output_type": "execute_result"
    }
   ],
   "source": [
    "date"
   ]
  },
  {
   "cell_type": "code",
   "execution_count": 23,
   "id": "320fdaf2-016d-4265-825d-a1d72820405b",
   "metadata": {},
   "outputs": [],
   "source": [
    "df.write_date = df.write_date.apply(lambda x: re.sub('(\\. )', '-', x))"
   ]
  },
  {
   "cell_type": "code",
   "execution_count": 24,
   "id": "77b7635f-0079-4cb5-b9c0-71955a27da60",
   "metadata": {},
   "outputs": [],
   "source": [
    "df['day'] = df.write_date.apply(lambda x: get_day(x))"
   ]
  },
  {
   "cell_type": "code",
   "execution_count": 25,
   "id": "7a6b19e2-297b-48c9-a672-b7dbdc601237",
   "metadata": {},
   "outputs": [],
   "source": [
    "mPerDay=df.groupby('user_name').day.value_counts().unstack()"
   ]
  },
  {
   "cell_type": "code",
   "execution_count": 26,
   "id": "5ac4be00-78a0-4f3e-93db-b382f3e23a74",
   "metadata": {},
   "outputs": [],
   "source": [
    "mPerDay=mPerDay[['Mon', 'Tue', 'Wed', 'Thu', 'Fri', 'Sat', 'Sun']]"
   ]
  },
  {
   "cell_type": "code",
   "execution_count": 27,
   "id": "eff5c9af-27e0-46bb-bf69-1b016e31a781",
   "metadata": {},
   "outputs": [
    {
     "data": {
      "text/html": [
       "<div>\n",
       "<style scoped>\n",
       "    .dataframe tbody tr th:only-of-type {\n",
       "        vertical-align: middle;\n",
       "    }\n",
       "\n",
       "    .dataframe tbody tr th {\n",
       "        vertical-align: top;\n",
       "    }\n",
       "\n",
       "    .dataframe thead th {\n",
       "        text-align: right;\n",
       "    }\n",
       "</style>\n",
       "<table border=\"1\" class=\"dataframe\">\n",
       "  <thead>\n",
       "    <tr style=\"text-align: right;\">\n",
       "      <th>day</th>\n",
       "      <th>Mon</th>\n",
       "      <th>Tue</th>\n",
       "      <th>Wed</th>\n",
       "      <th>Thu</th>\n",
       "      <th>Fri</th>\n",
       "      <th>Sat</th>\n",
       "      <th>Sun</th>\n",
       "    </tr>\n",
       "    <tr>\n",
       "      <th>user_name</th>\n",
       "      <th></th>\n",
       "      <th></th>\n",
       "      <th></th>\n",
       "      <th></th>\n",
       "      <th></th>\n",
       "      <th></th>\n",
       "      <th></th>\n",
       "    </tr>\n",
       "  </thead>\n",
       "  <tbody>\n",
       "    <tr>\n",
       "      <th>member1</th>\n",
       "      <td>6</td>\n",
       "      <td>4</td>\n",
       "      <td>5</td>\n",
       "      <td>2</td>\n",
       "      <td>6</td>\n",
       "      <td>3</td>\n",
       "      <td>7</td>\n",
       "    </tr>\n",
       "    <tr>\n",
       "      <th>member2</th>\n",
       "      <td>2</td>\n",
       "      <td>4</td>\n",
       "      <td>4</td>\n",
       "      <td>1</td>\n",
       "      <td>3</td>\n",
       "      <td>0</td>\n",
       "      <td>2</td>\n",
       "    </tr>\n",
       "    <tr>\n",
       "      <th>member3</th>\n",
       "      <td>2</td>\n",
       "      <td>5</td>\n",
       "      <td>3</td>\n",
       "      <td>5</td>\n",
       "      <td>5</td>\n",
       "      <td>3</td>\n",
       "      <td>5</td>\n",
       "    </tr>\n",
       "    <tr>\n",
       "      <th>member4</th>\n",
       "      <td>2</td>\n",
       "      <td>6</td>\n",
       "      <td>3</td>\n",
       "      <td>1</td>\n",
       "      <td>3</td>\n",
       "      <td>4</td>\n",
       "      <td>4</td>\n",
       "    </tr>\n",
       "    <tr>\n",
       "      <th>member5</th>\n",
       "      <td>7</td>\n",
       "      <td>10</td>\n",
       "      <td>8</td>\n",
       "      <td>12</td>\n",
       "      <td>8</td>\n",
       "      <td>7</td>\n",
       "      <td>10</td>\n",
       "    </tr>\n",
       "  </tbody>\n",
       "</table>\n",
       "</div>"
      ],
      "text/plain": [
       "day        Mon  Tue  Wed  Thu  Fri  Sat  Sun\n",
       "user_name                                   \n",
       "member1      6    4    5    2    6    3    7\n",
       "member2      2    4    4    1    3    0    2\n",
       "member3      2    5    3    5    5    3    5\n",
       "member4      2    6    3    1    3    4    4\n",
       "member5      7   10    8   12    8    7   10"
      ]
     },
     "execution_count": 27,
     "metadata": {},
     "output_type": "execute_result"
    }
   ],
   "source": [
    "mPerDay.fillna(0).astype('int')"
   ]
  },
  {
   "cell_type": "code",
   "execution_count": 145,
   "id": "3f0a06d5-d2dc-422b-8ffe-f23467467b0d",
   "metadata": {},
   "outputs": [
    {
     "data": {
      "image/png": "[encoded data removed]",
      "text/plain": [
       "<Figure size 432x288 with 1 Axes>"
      ]
     },
     "metadata": {
      "needs_background": "light"
     },
     "output_type": "display_data"
    }
   ],
   "source": [
    "# 팀원 별 독서 횟수 비교\n",
    "mPerDay.T.plot.bar()\n",
    "# plt.rc('axes', labelsize=10)                                      \n",
    "# plt.rc('ytick', labelsize=10)\n",
    "# plt.rc('xtick', labelsize=10)\n",
    "plt.legend(loc='lower left', bbox_to_anchor=(1, 0.5), fontsize=10)\n",
    "plt.show()"
   ]
  },
  {
   "cell_type": "code",
   "execution_count": 29,
   "id": "ec30772f-112d-4586-b2f8-9d8beb6e67ac",
   "metadata": {},
   "outputs": [
    {
     "data": {
      "text/plain": [
       "array(['이어쓰는 조경학개론', '자연정원을 위한 꿈의 식물', '꿈의 식물', '환경과 조경', '존도어의 okr',\n",
       "       '생각하지 않는 사람들', '나는 왜 집중하지 못하는가'], dtype=object)"
      ]
     },
     "execution_count": 29,
     "metadata": {},
     "output_type": "execute_result"
    }
   ],
   "source": [
    "df[df['user_name'] == 'member1'].title.unique()"
   ]
  },
  {
   "cell_type": "code",
   "execution_count": 30,
   "id": "77264799-f8a7-40b3-86f7-175cc07b0581",
   "metadata": {},
   "outputs": [
    {
     "data": {
      "text/plain": [
       "user_name\n",
       "member1     7\n",
       "member2     3\n",
       "member3    10\n",
       "member4     7\n",
       "member5     9\n",
       "Name: title, dtype: int64"
      ]
     },
     "execution_count": 30,
     "metadata": {},
     "output_type": "execute_result"
    }
   ],
   "source": [
    "df.groupby('user_name')['title'].nunique()"
   ]
  },
  {
   "cell_type": "code",
   "execution_count": 31,
   "id": "241591e1-d4d4-42df-8e31-bd1cbb233a10",
   "metadata": {},
   "outputs": [
    {
     "data": {
      "text/plain": [
       "Index(['time-stamp', 'user_name', 'title', 'reading-pages', 'reading-times',\n",
       "       'daily_sentence', 'write_date', 'day'],\n",
       "      dtype='object')"
      ]
     },
     "execution_count": 31,
     "metadata": {},
     "output_type": "execute_result"
    }
   ],
   "source": [
    "df.columns"
   ]
  },
  {
   "cell_type": "code",
   "execution_count": 280,
   "id": "4cade77d-94c1-48e9-a83b-1c709722f2a3",
   "metadata": {},
   "outputs": [],
   "source": [
    "# 특정 맴버가 읽은 시간대에 따른 독서 시간\n",
    "data1=df[df['user_name'] =='member5'].groupby('time-stamp')['reading-times'].mean().astype('int')"
   ]
  },
  {
   "cell_type": "code",
   "execution_count": 282,
   "id": "b7472711-3238-4f7e-acad-32cf15713a23",
   "metadata": {},
   "outputs": [
    {
     "data": {
      "text/plain": [
       "<AxesSubplot:xlabel='time-stamp'>"
      ]
     },
     "execution_count": 282,
     "metadata": {},
     "output_type": "execute_result"
    },
    {
     "data": {
      "image/png": "[encoded data removed]",
      "text/plain": [
       "<Figure size 432x288 with 1 Axes>"
      ]
     },
     "metadata": {
      "needs_background": "light"
     },
     "output_type": "display_data"
    }
   ],
   "source": [
    "data1.plot.bar()"
   ]
  },
  {
   "cell_type": "code",
   "execution_count": 146,
   "id": "7ce260ad-db4f-4619-8fbc-058fbee45780",
   "metadata": {},
   "outputs": [],
   "source": [
    "sent = ''\n",
    "for i in df.daily_sentence:\n",
    "    sent = sent +' ' + str(i)"
   ]
  },
  {
   "cell_type": "code",
   "execution_count": 147,
   "id": "101f8151-fb86-428c-9d47-ecc08e3b8a25",
   "metadata": {},
   "outputs": [
    {
     "data": {
      "text/plain": [
       "' nan 부분보다 전체를 보는 지혜 황금은 채굴되는 것이 아니다. 만들어지는 것이다.\\n\\n nan 세상은 이미 당신의 것이지만, 그것을 손에 넣는 것은 당신의 몫이다 nan nan 예측 가능한 삶을 살면 쉽게 무너지지 않는다. nan 당신의 목표가 천만 달러라면, 새로운 목표는 천만 달러의 가치를 창출하는 것이다 보편속에서의 다양함 인간을 움직이는 핵심동력 고통의회피 기쁨의 경험 당신은 내가 원하는 것을 가졌는가? 그렇다면 나는 얼마의 대가를 지불해야 그것을 가질 수 있는가? 추진력은 눈송이를 굴리는 일이다 nan nan 이 회사 -페이스북, 에어비앤비, 알리바바, 우버- 들은 소유하지 않고 통제한다 문제 해결의 규모는 당신이 벌 수 있는 돈의 규모다 한국 전통조경 = 풍수지리학 nan 나 지금 걱정있어가 아닌 나 지금 해결해야 할 일 있어로 당신의 첫 실행 과제는 시장의 마음을 예단하는 것이 아니라 (되도록이면 적은 비용을 들여서) 현장에 뛰어들어서 시장을 읽는 노력을 하는 것이다 nan 걱정이 닥칠 땐 잠시 멈춰라 여러 우물을 파기 전에 반드시 한 우물에서 성공해야 한다 오늘은 소중한 당신의 것이다 nan nan 두려움을 다루는 최상의 방법은 적극적인 행동이다 nan nan 꿈꾸고. 실패하고, 교훈을 배우고, 마침내는 성공했다 고수는 자기 자신을 믿는다. 어떤 생각이든 감정 및 믿음과 결합되면. 그 즉시 그것과 동등한 물리적 형태로 바뀌게 된다.  nan 판매자측과 구매자측의 관심을 파악하고, 고용주들이 추가로 비용을 지불할 만한 가치를 담은 계획을 제시한다 고수는 고객이 원하는 것을 준비한다. nan 고객은 당신에게 먼저 전화하지 않는다. 성공한 사람은 즉시 결정을 내리는 것이 습관화되어 있고 그 결정을 바꿀 때는 오랜 시간 신중하게 생각한다는 사실을 알았다. 부를 일구는 데 실패한 사람들은 거의 예외 없이 결단을 내리는 데는 오랜 시간이 걸리는 반면, 결정을 무척이나 빠르고도 자주 뒤집었다. nan nan 끈기가 실패를 과거의 일로 만든다 nan nan 우리는 성공하고싶지, 애쓰고 싶어 하지 않는다 nan 실패한 사람들은 생각하고 성공한 사람들은 잊는다 nan nan 봄 개화 식물로 정원을 채워 버려 가을 개화 식물이 들어설 자리를 없애는 실수를 하지말자 무엇이든 되게하라 이들이 자연계에 존재한다는 사실이 그들이 응당 존재해야 한다는 당위를 내포하지는 않는다 끝! 없음 고객사의 결정 촉매자를 찾아라 모든 부정적인 것은 긍적적인 것이다 아름다움은 보는 사람의 눈에 달렸을지 모르지만, 그 눈과 마음은 수백만 년에 걸친 인간의 진화에 의해 형성되었다. - 끝 고객에 니즈를 파악하고 전략적으로 접근해라 절박의 힘 진실을 감추는 행위는 별로 도움이 되지 않는다. 사람들이 즙이 많고 잘 익은 과일에 다한 선호를 진화시켰다는 사실을 숨긴다면 과일에 대한 선호를 바꾸는 데 아무 도움이 될 수 없듯이 말이다. 안마당더랩의 가장 우선하는 디자인 철학은 균형이다. 공간에 공존하는 많은 가치를 파악하고 그 가치들이 서로 상생하며 균형을 찾을 방법을 모색한다. 폭 넓게 만나라 ㅁ 삶은 우리를 벌주지 않는다.\\n다만 가르쳐줄 뿐이다 얼굴이 다양한 표정을 짓는 것만큼이나 마음도 다양한 감정을 띤다 제로코스트효과 지갑을 스스로 열게하라 모든 살아 있는 사람들은 진화의 성공담이다 매도하기 기술 이미 행복한 고객을 더 행복하게 만드는 데 더 많은 시간을 할애하라 아이들을 위한 공간은 무작정 비워놓는다고 활성화가 되지 않는다. 아이들을 모을 수 있는 프로그램과 장치가 필요하다.  어떻게 하면 단순하면서도 아름답고, 더 나아가 감동을 주는 공간을 디자인을 할 수 있을지 늘 고민해야한다. 없음 네거티브 전략 - (센트럴파크을 말하며) 이 공원을 지금 만들지 않으면 100년후엔 이 만한 정신병원을 지여야할 것이다. 경리 업무는 월별과 하루의 일과를 분리하고 수립하는 것에서 부터 시작한다 두 사람이 처음 함께 살 때 그들의 가슴은 불타오르고 정열은 치솟는다. 시간이 흐르고 난 뒤 그들은 여전히 서로 사랑하지만 전과는 다르게 사랑한다. 서로 따뜻하게 의지할 수 있는 사랑으로. 데이터를 모으는 것부터 시작하자! 매에 맞으면 매 자국이 날 뿐이지만, 혀에 맞으면 뼈가 부러진다 우선 순위에 집증하기! okr은 관심을 기울여야 할 가치가 있고, 모든 구성원을 앞으로 나아가게 만들기 위해 엄격하게 선발된 목표의 집합이다\\n 한때 나는 언어의 바다를 헤엄치는 스쿠버 다이버였다. 하지만 지금은 제트 스키를 탄 사내처럼 겉만 핥고 있다. 고객의 가치는 경영자의 태도에서 결정된다 흥미롭게도 이들 부부는 집에 돈이 얼마나 있느냐보다 있는 돈을 어떻게 분배할 것인가를 둘러싸고 더 자주 싸운다 인간의 뇌 세포는 사용할수록 말 그대로 커지고 발전하며, 사용하지 않으면 줄어들거나 사라져버린다. 따라서 모든 행동은 신경조직에 영구적인 흔적을 남긴다고 볼 수 있다. 투명함, 하향식okr, 자유로움 그리고 이 광활한 고요함 속에서 나는 장미빛 안식처를 입을 것이네 활동하는 뇌의 격자무늬 화환을 쓰고 - 누군가 나에게 말했다. 넌 책을 많이 읽으니 독해력이 뛰어나지 않냐고. 나는 하루에 5시간 이상 꾸준히 스마트폰을 사용한다. 하지만 독서시간은 단지 30분뿐이다. - 나의 뇌는 굶주려 있었다. 나는 누군가와 연결되고 싶었다. 뇌를잃어버리다 - 그 수많은 책이 보여주는 과묵함 덕에, 또 이 책들은 자신들을 정확히 필요로하는 독자가 자가와 서고 내의 고정석에서 자신들을 빼내 줄 때까지는 수년 또는 수십 년을 기꺼이 기다릴 것이라는 점에서 나는 마음의 편안을 느꼈다. 뀨 음악과 언어에 대한 나의 생각들은 펜과 종이의 질에 의해 종종 좌우되지. 나의 뇌는 굶주려있다 음악과 언어에 대한 나의 생각들은 펜과 종이의 질에 의해 종종 좌우되지 . 신경가소성에 따른 반갑지 않은 적응의 가능성은 매일 우리 사고의 일반적인 기능으로서 존재한다. 철학적으로 논리적인 플라톤의 사고는 글쓰기가 정신 작용에 미치기 시작한 영향력 덕분에 가능했다 상아탑속에 갇혀있던 문화적사고의 해방 매체는 사고를 변화시킨다 뇌는 기계같은 역할이 아니다 웹에서 검색할 때는 숲을 보지 못한다. 심지어 나무조차도 보지 못한다. 잔가지와 나뭇잎만 볼 뿐이다. 뇌는 동물의 혈액이나 배설물과 비슷하다 우리는 이 매체를 이용하고 그 경험을 향상시키기 위해 무언가 역동적인 것을 창조할 필요가 있다 미디어의 변화와 산업의 변화 계획적인 뇌의 성형 - 한동안 어려운 정신적 도전에 대해 관심을 멀리할 경우 우리는 더 나은 선택을 한다. ~ 우리가 문제점을 명확하고 의식적으로 정의하기 전까지는 무의식적 사고 과정이 문제에 관여하지 않음을 보여준다. . 지금 현재 우리에게 일어나는 일을 지나치게 과대평가 하는 우리의 자연스러운 성향에 영향을 미친다. 우리는 “새로운 것이 중요하기 보다는 사고한 경우가 더 많다”는 점을 알고 있음에도 새로운 것을 찾아 헤맨다. 미디어의 발달로 나는 멀티태스킹의 삶을 살게되었다. 그리고 나는 어디에 서있는지 모르겠다. 메타버스에서 쌓은 부캐 내 아이덴트티를 압도하다 - 기술(글쓰기)은 단순한 외부적 보조물이 아니라 의식에 대한 내부적 변화인데, 특히 단어에 영향을 줄 때 가장 그렇다. 뛰어난 독서가의 뇌는 문서의 빠른 해석을 가능케한다고 한다 . 행복한 사람 옆에 누구나 있고싶어한다 - 모든 곳에 있는 것은 아무 곳에도 없는 것이다 P2p / web3/ cefi / defi 회사 동료의 “자기 중요감”을 자극해보라. 당신의 열렬한 팬이 될 것이다 - 주식 몇 주보다 가성비 높은 인간 관계 투자다 여론의 바람은 인터넷으로 장소가 바뀌면서 강한 돌개바람으로 변해버렸다 조용히 독서하는 행동은 지식을 얻은자가 지식에 대한 책임을 진다는 자의식의 표시이자 수단 아무리 해도 글이 안 써질 땐, 월급을 생각한다 책이라는 의식있는 존재 김병완 작가는 그의 책에서 “독서는 지식 습득이 아니라 생각하게 하는 것”이라고 이야기한다. 너ㅜ 피곤해 ㅠㅠ 그럼 무슨 일 때문에 선수들이 한계를 느낀 걸까. 사실 방어 본능으로 뇌가 멋대로 “한계”라고 판단하고 제동을 걸었던 것이다. - 인터넷 생각을 넘어 뇌구조까지 바꾸다 피로에 대한 대책\\n1. “뇌는 피로를 모른다”는 원칙 알기\\n2. 피로감의 원인-몸,마음,신경의 피로-를 경감하고. 뇌 피로의 유일한 요인인 의지력을 제대로 회복시키는 것 : 수면, 감각 되찾기, 불안요소 적기 긴장감을 집중력으로 바꿔라 우선순위 1번이 끝날 때까지는 1번만 해야 한다는 것이다. 2번을 생각해서는 안 된다. 마음 밖으로 쫓아내는 것이다 인간적인 감각와 기계화로 인한 효율의 사이 보완재의 매출은 나란히 상승하기 때문에 회사는 비용을 줄이고 핵심 상품에 대한 보완재의 종류를 확장시키는 데 큰 전략적 관심을 가진다. a 효율적인 정보 수집을 위한 시간과 함께 비효율적인 사색의 시간도, 그리고 기계를 작동하는 시간과 함께 정원에 멍하게 앉아있는 시간도 모두 필요한 것이다 조언을 구하는 것은 조언자의 말을 그대로 따르기 위함이 아니라 오히려 자신만의 일과 삶의 철학을 제대로 세우기 위함이다 - 실력 향상 측면에서는 원리를 이해하고 피드백을 받아가면서 한 시간 연습하는 것이 무작정 열심히 하는 연습 3시간보다도 더 나을 확률이 높다\\n- 시작이 반이라면 나머지 반은 마무리이다 - 정신적문제는 주저하지말고 진단을 받아야한다. 맞으면 개선하면 되고 아니면 다른 원인이 있는지 확인하면 된다 우리는 어떤 사물과 대상을 바라볼 때 가장 잘 활용할 수 있는 감각을 선택하는 습관을 들여야 한다 우리에게 필요한 건 갑자기 진상으로 변한 손님에 대한 걱정과 불편, 두려움이 아니다. 모든 손님을 환대할 수 있는 계획이다 \\n그들이 하루동안 일해서 번 돈을 받을 수 있을만큼 그들을 흥분시키거나 즐겁게 해줄 수 있는가? 당신이 만나는 모든 사람에 대해, 그들을 도울 수 있는 방법이나 그들을 위해서 할 수 있는 일을 궁리하는 동안 당신은 다양한 해결책을 검증할 수 있다 그만두는 것은 포기가 아나라 다음으로 넘어간다는 뜻이다 “이해받지 못하고 있다”는 자신의 불안 때문에 당신에게 못되게 구는 것이다 굳이 처음부터 반드시 시작하지 않아도 된다는 걸 알면 삶이 한결 단순해진다 나는 스스로의 자유의지나 “노오력” 따위를 믿는 대신, “나는 멋진 사업가다”라는 정체성을 강제하는 환경을 갖추기로 결심했다 현재를 희생하면서 미래를 바라보지 않았으면 한다. 그렇기에 당신에게 “놀면서, 쉬면서, 효율적으로 살라” 라고 말하고 싶다. 자유의진 노력이니 진정성이니 따위의 듣기 좋고 허망한 것들을 믿는 대신, 나를 훈련시킬 운동장을 만들어 스스로를 밀어 넣는 게 핵심이다 장기적인 수를 두기 위해 무엇을 하면 좋을지 생각해보고 한번 작성해보자 대부분의 경우 당신은 그런 니즈 자체를 모르는 것이지, 그런 사업이 안되는 이유를 정확히 알고 있는 게 아니다 상대가 무의식 중에 내 전략과 경기 운영방식에 점점 큰 엉향을 받는다는 것이다. 상대가 내 기술을 제아무리 연구하고 따라한다 한들, 나보다 잘할 수 있겠는가? 실패는 오래 가지 않는다. 젊을 때는 해고 사유였던 일로, 늙어서는 평생 공로상을 받을 수도 있다'"
      ]
     },
     "execution_count": 147,
     "metadata": {},
     "output_type": "execute_result"
    }
   ],
   "source": [
    "sent"
   ]
  },
  {
   "cell_type": "code",
   "execution_count": 35,
   "id": "32f45c8b-9ad6-40a0-aad9-d78c8205ea66",
   "metadata": {},
   "outputs": [
    {
     "name": "stderr",
     "output_type": "stream",
     "text": [
      "C:\\Users\\kyeul\\anaconda3\\lib\\site-packages\\konlpy\\tag\\_okt.py:17: UserWarning: \"Twitter\" has changed to \"Okt\" since KoNLPy v0.4.5.\n",
      "  warn('\"Twitter\" has changed to \"Okt\" since KoNLPy v0.4.5.')\n"
     ]
    }
   ],
   "source": [
    "twitter = Twitter()"
   ]
  },
  {
   "cell_type": "code",
   "execution_count": 37,
   "id": "fc20a4da-2069-48e1-a3d8-38f0553bcba8",
   "metadata": {},
   "outputs": [],
   "source": [
    "sentences_tag = []\n",
    "sentences_tag = twitter.pos(sent) "
   ]
  },
  {
   "cell_type": "code",
   "execution_count": 237,
   "id": "e85b7e9b-3755-4ed6-870e-1f29573f61ea",
   "metadata": {},
   "outputs": [],
   "source": [
    "stopwords = ['것', '있는', '수', '그', '더', '모든', '데', '내', '때', '당신', '할', '한다', '이','그것',\n",
    "            '대한', '어떤', '즉시', '있는가', 'nan','사람','우리','사실','나','있다','때문', '아니라', '위해']"
   ]
  },
  {
   "cell_type": "code",
   "execution_count": 238,
   "id": "7d425d9f-9170-47f1-a661-4d1c24ea2412",
   "metadata": {},
   "outputs": [],
   "source": [
    "noun_adj_list = []\n",
    "# tag가 명사이거나 형용사인 단어들만 noun_adj_list에 넣어준다.\n",
    "for word, tag in sentences_tag:\n",
    "    if tag in ['Noun' , 'Adjective'] and word not in stopwords: \n",
    "        noun_adj_list.append(word)\n"
   ]
  },
  {
   "cell_type": "code",
   "execution_count": 239,
   "id": "9f118897-ddd3-40b1-96b4-ec6095622b9c",
   "metadata": {},
   "outputs": [],
   "source": [
    "# 가장 많이 나온 단어부터 40개를 저장한다.\n",
    "counts = Counter(noun_adj_list)\n",
    "tags = dict(counts.most_common(50))"
   ]
  },
  {
   "cell_type": "code",
   "execution_count": 240,
   "id": "b625dc5a-fc0d-42d2-8deb-9c1af98ca09e",
   "metadata": {},
   "outputs": [],
   "source": [
    "def color_func(word, font_size, position,orientation,random_state=None, **kwargs):\n",
    "    return(\"hsl({:d},{:d}%, {:d}%)\".format(np.random.randint(12,313),np.random.randint(0,32),np.random.randint(45,80)))"
   ]
  },
  {
   "cell_type": "code",
   "execution_count": 241,
   "id": "3dbad4a5-f253-48b6-b444-503e7c25c9ff",
   "metadata": {},
   "outputs": [],
   "source": [
    "wc = WordCloud(font_path='malgun', \n",
    "               width=400, height=400, scale=2.0, \n",
    "               background_color='#FFFFFF',\n",
    "               max_font_size=250, \n",
    "               color_func = color_func\n",
    "              )\n"
   ]
  },
  {
   "cell_type": "code",
   "execution_count": 242,
   "id": "a67b7f98-efc4-4698-b0dc-a30f17046317",
   "metadata": {
    "tags": []
   },
   "outputs": [
    {
     "data": {
      "image/png": "[encoded data removed]",
      "text/plain": [
       "<Figure size 432x288 with 1 Axes>"
      ]
     },
     "metadata": {
      "needs_background": "light"
     },
     "output_type": "display_data"
    }
   ],
   "source": [
    "gen = wc.generate_from_frequencies(tags)\n",
    "plt.figure()\n",
    "plt.axis('off')\n",
    "plt.imshow(gen)\n",
    "plt.tight_layout(pad=0)\n",
    "plt.show()"
   ]
  },
  {
   "cell_type": "code",
   "execution_count": 307,
   "id": "c97d7ec9-c67c-4f97-8782-a3e8803ee8d7",
   "metadata": {
    "tags": []
   },
   "outputs": [],
   "source": [
    "data = df[df['user_name']==\"member5\"][[\"write_date\", \"reading-times\"]]\n",
    "data.set_index(data['write_date'], inplace=True)\n",
    "data5 = data.drop('write_date', axis=1)"
   ]
  },
  {
   "cell_type": "code",
   "execution_count": 312,
   "id": "8f9877b8-bd28-45be-9f84-27214c0f7da6",
   "metadata": {},
   "outputs": [
    {
     "ename": "TypeError",
     "evalue": "bar() missing 1 required positional argument: 'height'",
     "output_type": "error",
     "traceback": [
      "\u001b[1;31m---------------------------------------------------------------------------\u001b[0m",
      "\u001b[1;31mTypeError\u001b[0m                                 Traceback (most recent call last)",
      "\u001b[1;32m~\\AppData\\Local\\Temp/ipykernel_20012/54674960.py\u001b[0m in \u001b[0;36m<module>\u001b[1;34m\u001b[0m\n\u001b[1;32m----> 1\u001b[1;33m \u001b[0mplt\u001b[0m\u001b[1;33m.\u001b[0m\u001b[0mbar\u001b[0m\u001b[1;33m(\u001b[0m\u001b[0mdata1\u001b[0m\u001b[1;33m,\u001b[0m \u001b[0mlabel\u001b[0m\u001b[1;33m=\u001b[0m\u001b[1;34m\"member1\"\u001b[0m\u001b[1;33m)\u001b[0m\u001b[1;33m\u001b[0m\u001b[1;33m\u001b[0m\u001b[0m\n\u001b[0m\u001b[0;32m      2\u001b[0m \u001b[0mplt\u001b[0m\u001b[1;33m.\u001b[0m\u001b[0mbar\u001b[0m\u001b[1;33m(\u001b[0m\u001b[0mdata2\u001b[0m\u001b[1;33m,\u001b[0m \u001b[0mlabel\u001b[0m\u001b[1;33m=\u001b[0m\u001b[1;34m'member2'\u001b[0m\u001b[1;33m)\u001b[0m\u001b[1;33m\u001b[0m\u001b[1;33m\u001b[0m\u001b[0m\n\u001b[0;32m      3\u001b[0m \u001b[0mplt\u001b[0m\u001b[1;33m.\u001b[0m\u001b[0mbar\u001b[0m\u001b[1;33m(\u001b[0m\u001b[0mdata3\u001b[0m\u001b[1;33m,\u001b[0m \u001b[0mlabel\u001b[0m\u001b[1;33m=\u001b[0m\u001b[1;34m'member3'\u001b[0m\u001b[1;33m)\u001b[0m\u001b[1;33m\u001b[0m\u001b[1;33m\u001b[0m\u001b[0m\n\u001b[0;32m      4\u001b[0m \u001b[0mplt\u001b[0m\u001b[1;33m.\u001b[0m\u001b[0mbar\u001b[0m\u001b[1;33m(\u001b[0m\u001b[0mdata4\u001b[0m\u001b[1;33m,\u001b[0m \u001b[0mlabel\u001b[0m\u001b[1;33m=\u001b[0m\u001b[1;34m'member4'\u001b[0m\u001b[1;33m)\u001b[0m\u001b[1;33m\u001b[0m\u001b[1;33m\u001b[0m\u001b[0m\n\u001b[0;32m      5\u001b[0m \u001b[0mplt\u001b[0m\u001b[1;33m.\u001b[0m\u001b[0mbar\u001b[0m\u001b[1;33m(\u001b[0m\u001b[0mdata5\u001b[0m\u001b[1;33m,\u001b[0m \u001b[0mlabel\u001b[0m\u001b[1;33m=\u001b[0m\u001b[1;34m'member5'\u001b[0m\u001b[1;33m)\u001b[0m\u001b[1;33m\u001b[0m\u001b[1;33m\u001b[0m\u001b[0m\n",
      "\u001b[1;31mTypeError\u001b[0m: bar() missing 1 required positional argument: 'height'"
     ]
    }
   ],
   "source": [
    "plt.bar(data1, label=\"member1\")\n",
    "plt.bar(data2, label='member2')\n",
    "plt.bar(data3, label='member3')\n",
    "plt.bar(data4, label='member4')\n",
    "plt.bar(data5, label='member5')\n",
    "plt.legend()\n",
    "plt.show()"
   ]
  },
  {
   "cell_type": "code",
   "execution_count": null,
   "id": "ef86713f-cf5a-48f9-ae67-771cde8048db",
   "metadata": {},
   "outputs": [],
   "source": []
  }
 ],
 "metadata": {
  "kernelspec": {
   "display_name": "Python 3 (ipykernel)",
   "language": "python",
   "name": "python3"
  },
  "language_info": {
   "codemirror_mode": {
    "name": "ipython",
    "version": 3
   },
   "file_extension": ".py",
   "mimetype": "text/x-python",
   "name": "python",
   "nbconvert_exporter": "python",
   "pygments_lexer": "ipython3",
   "version": "3.9.12"
  }
 },
 "nbformat": 4,
 "nbformat_minor": 5
}
