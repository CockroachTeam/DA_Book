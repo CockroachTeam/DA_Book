{
 "cells": [
  {
   "cell_type": "markdown",
   "id": "1d6ec4ef-5580-4ce5-a266-30edaed9d197",
   "metadata": {},
   "source": [
    "## 분석할 것들\n",
    "어떤 것을 분석해야 할까?\n",
    "\n",
    "1. global 평균 독서 시간\n",
    "2. 개인 독서 시간\n",
    "3. 키워드 분석\n",
    "4. "
   ]
  },
  {
   "cell_type": "code",
   "execution_count": 103,
   "id": "8653eb1d-4f71-4359-84be-062732599f4d",
   "metadata": {},
   "outputs": [],
   "source": [
    "import pandas as pd\n",
    "from datetime import datetime, date\n",
    "import re\n",
    "import matplotlib.pyplot as plt\n",
    "\n",
    "pd.set_option('display.max_rows', None)"
   ]
  },
  {
   "cell_type": "code",
   "execution_count": 67,
   "id": "e56aa989-a286-485f-82d9-d1d0a5136e07",
   "metadata": {},
   "outputs": [],
   "source": [
    "record = pd.read_csv('record.csv')"
   ]
  },
  {
   "cell_type": "code",
   "execution_count": 68,
   "id": "8c5c97bd-3cdf-48ef-b203-98050f96a58b",
   "metadata": {},
   "outputs": [
    {
     "name": "stdout",
     "output_type": "stream",
     "text": [
      "<class 'pandas.core.frame.DataFrame'>\n",
      "RangeIndex: 162 entries, 0 to 161\n",
      "Data columns (total 10 columns):\n",
      " #   Column                 Non-Null Count  Dtype \n",
      "---  ------                 --------------  ----- \n",
      " 0   타임스탬프                  162 non-null    object\n",
      " 1   이름                     162 non-null    object\n",
      " 2   독서_날짜                  162 non-null    object\n",
      " 3   책 제목                   162 non-null    object\n",
      " 4   시작 페이지                 162 non-null    int64 \n",
      " 5   종료 페이지                 162 non-null    int64 \n",
      " 6   쪽수                     162 non-null    int64 \n",
      " 7   독서 시간(분단위, 단위는 입력  x)  162 non-null    int64 \n",
      " 8   오늘의 문장                 140 non-null    object\n",
      " 9   날짜                     162 non-null    object\n",
      "dtypes: int64(4), object(6)\n",
      "memory usage: 12.8+ KB\n"
     ]
    }
   ],
   "source": [
    "record.info()"
   ]
  },
  {
   "cell_type": "code",
   "execution_count": 69,
   "id": "ef1f3b1d-a4ee-4a86-a51f-574c7f49db8d",
   "metadata": {},
   "outputs": [
    {
     "data": {
      "text/html": [
       "<div>\n",
       "<style scoped>\n",
       "    .dataframe tbody tr th:only-of-type {\n",
       "        vertical-align: middle;\n",
       "    }\n",
       "\n",
       "    .dataframe tbody tr th {\n",
       "        vertical-align: top;\n",
       "    }\n",
       "\n",
       "    .dataframe thead th {\n",
       "        text-align: right;\n",
       "    }\n",
       "</style>\n",
       "<table border=\"1\" class=\"dataframe\">\n",
       "  <thead>\n",
       "    <tr style=\"text-align: right;\">\n",
       "      <th></th>\n",
       "      <th>시작 페이지</th>\n",
       "      <th>종료 페이지</th>\n",
       "      <th>쪽수</th>\n",
       "      <th>독서 시간(분단위, 단위는 입력  x)</th>\n",
       "    </tr>\n",
       "  </thead>\n",
       "  <tbody>\n",
       "    <tr>\n",
       "      <th>count</th>\n",
       "      <td>162.000000</td>\n",
       "      <td>162.000000</td>\n",
       "      <td>162.000000</td>\n",
       "      <td>162.000000</td>\n",
       "    </tr>\n",
       "    <tr>\n",
       "      <th>mean</th>\n",
       "      <td>137.666667</td>\n",
       "      <td>171.802469</td>\n",
       "      <td>34.135802</td>\n",
       "      <td>30.135802</td>\n",
       "    </tr>\n",
       "    <tr>\n",
       "      <th>std</th>\n",
       "      <td>103.507494</td>\n",
       "      <td>103.666321</td>\n",
       "      <td>35.636799</td>\n",
       "      <td>22.917759</td>\n",
       "    </tr>\n",
       "    <tr>\n",
       "      <th>min</th>\n",
       "      <td>1.000000</td>\n",
       "      <td>8.000000</td>\n",
       "      <td>4.000000</td>\n",
       "      <td>5.000000</td>\n",
       "    </tr>\n",
       "    <tr>\n",
       "      <th>25%</th>\n",
       "      <td>56.000000</td>\n",
       "      <td>94.250000</td>\n",
       "      <td>15.000000</td>\n",
       "      <td>15.000000</td>\n",
       "    </tr>\n",
       "    <tr>\n",
       "      <th>50%</th>\n",
       "      <td>125.000000</td>\n",
       "      <td>162.500000</td>\n",
       "      <td>25.500000</td>\n",
       "      <td>26.000000</td>\n",
       "    </tr>\n",
       "    <tr>\n",
       "      <th>75%</th>\n",
       "      <td>201.500000</td>\n",
       "      <td>234.250000</td>\n",
       "      <td>42.000000</td>\n",
       "      <td>31.000000</td>\n",
       "    </tr>\n",
       "    <tr>\n",
       "      <th>max</th>\n",
       "      <td>513.000000</td>\n",
       "      <td>553.000000</td>\n",
       "      <td>323.000000</td>\n",
       "      <td>230.000000</td>\n",
       "    </tr>\n",
       "  </tbody>\n",
       "</table>\n",
       "</div>"
      ],
      "text/plain": [
       "           시작 페이지      종료 페이지          쪽수  독서 시간(분단위, 단위는 입력  x)\n",
       "count  162.000000  162.000000  162.000000             162.000000\n",
       "mean   137.666667  171.802469   34.135802              30.135802\n",
       "std    103.507494  103.666321   35.636799              22.917759\n",
       "min      1.000000    8.000000    4.000000               5.000000\n",
       "25%     56.000000   94.250000   15.000000              15.000000\n",
       "50%    125.000000  162.500000   25.500000              26.000000\n",
       "75%    201.500000  234.250000   42.000000              31.000000\n",
       "max    513.000000  553.000000  323.000000             230.000000"
      ]
     },
     "execution_count": 69,
     "metadata": {},
     "output_type": "execute_result"
    }
   ],
   "source": [
    "record.describe()"
   ]
  },
  {
   "cell_type": "markdown",
   "id": "a284f66b-2a7f-4b78-93e6-ba9d150f5190",
   "metadata": {},
   "source": [
    "# 전처리"
   ]
  },
  {
   "cell_type": "markdown",
   "id": "eefc28cb-4f6b-4f0e-9f42-27f70a2399d0",
   "metadata": {},
   "source": [
    "어떤 data를 사용할 것인가. \n",
    "1. 날짜\n",
    "2. 시간대 -> 개인이 주로 언제 책을 읽는지\n",
    "3. 독서량\n",
    "4. 독서시간 \n",
    "5. 분당 독서량\n",
    "6. 키워드"
   ]
  },
  {
   "cell_type": "code",
   "execution_count": 71,
   "id": "740aea17-0468-49b4-8828-e82618b5885f",
   "metadata": {},
   "outputs": [],
   "source": [
    "def make24hour(x):\n",
    "    lst = x.split(' ')[3:]\n",
    "    time = int(lst[1].split(':')[0])\n",
    "    \n",
    "    if lst[0] == '오후':\n",
    "        if time == 12:\n",
    "            return time\n",
    "        else:\n",
    "            time += 12\n",
    "        \n",
    "    elif lst[0] == '오전' and time == 12:\n",
    "        time = 0\n",
    "    return time\n",
    "    \n",
    "    "
   ]
  },
  {
   "cell_type": "code",
   "execution_count": 72,
   "id": "b30eef34-43b9-4b99-977f-1c2acaa255ed",
   "metadata": {},
   "outputs": [],
   "source": [
    "record['타임스탬프'] = record['타임스탬프'].apply(lambda x: make24hour(x))"
   ]
  },
  {
   "cell_type": "code",
   "execution_count": 73,
   "id": "c6d78bf1-c264-4e0b-886a-9b60c4a58a90",
   "metadata": {},
   "outputs": [
    {
     "data": {
      "text/html": [
       "<div>\n",
       "<style scoped>\n",
       "    .dataframe tbody tr th:only-of-type {\n",
       "        vertical-align: middle;\n",
       "    }\n",
       "\n",
       "    .dataframe tbody tr th {\n",
       "        vertical-align: top;\n",
       "    }\n",
       "\n",
       "    .dataframe thead th {\n",
       "        text-align: right;\n",
       "    }\n",
       "</style>\n",
       "<table border=\"1\" class=\"dataframe\">\n",
       "  <thead>\n",
       "    <tr style=\"text-align: right;\">\n",
       "      <th></th>\n",
       "      <th>타임스탬프</th>\n",
       "      <th>시작 페이지</th>\n",
       "      <th>종료 페이지</th>\n",
       "      <th>쪽수</th>\n",
       "      <th>독서 시간(분단위, 단위는 입력  x)</th>\n",
       "    </tr>\n",
       "  </thead>\n",
       "  <tbody>\n",
       "    <tr>\n",
       "      <th>count</th>\n",
       "      <td>162.000000</td>\n",
       "      <td>162.000000</td>\n",
       "      <td>162.000000</td>\n",
       "      <td>162.000000</td>\n",
       "      <td>162.000000</td>\n",
       "    </tr>\n",
       "    <tr>\n",
       "      <th>mean</th>\n",
       "      <td>11.586420</td>\n",
       "      <td>137.666667</td>\n",
       "      <td>171.802469</td>\n",
       "      <td>34.135802</td>\n",
       "      <td>30.135802</td>\n",
       "    </tr>\n",
       "    <tr>\n",
       "      <th>std</th>\n",
       "      <td>8.914811</td>\n",
       "      <td>103.507494</td>\n",
       "      <td>103.666321</td>\n",
       "      <td>35.636799</td>\n",
       "      <td>22.917759</td>\n",
       "    </tr>\n",
       "    <tr>\n",
       "      <th>min</th>\n",
       "      <td>0.000000</td>\n",
       "      <td>1.000000</td>\n",
       "      <td>8.000000</td>\n",
       "      <td>4.000000</td>\n",
       "      <td>5.000000</td>\n",
       "    </tr>\n",
       "    <tr>\n",
       "      <th>25%</th>\n",
       "      <td>2.250000</td>\n",
       "      <td>56.000000</td>\n",
       "      <td>94.250000</td>\n",
       "      <td>15.000000</td>\n",
       "      <td>15.000000</td>\n",
       "    </tr>\n",
       "    <tr>\n",
       "      <th>50%</th>\n",
       "      <td>8.500000</td>\n",
       "      <td>125.000000</td>\n",
       "      <td>162.500000</td>\n",
       "      <td>25.500000</td>\n",
       "      <td>26.000000</td>\n",
       "    </tr>\n",
       "    <tr>\n",
       "      <th>75%</th>\n",
       "      <td>22.000000</td>\n",
       "      <td>201.500000</td>\n",
       "      <td>234.250000</td>\n",
       "      <td>42.000000</td>\n",
       "      <td>31.000000</td>\n",
       "    </tr>\n",
       "    <tr>\n",
       "      <th>max</th>\n",
       "      <td>23.000000</td>\n",
       "      <td>513.000000</td>\n",
       "      <td>553.000000</td>\n",
       "      <td>323.000000</td>\n",
       "      <td>230.000000</td>\n",
       "    </tr>\n",
       "  </tbody>\n",
       "</table>\n",
       "</div>"
      ],
      "text/plain": [
       "            타임스탬프      시작 페이지      종료 페이지          쪽수  독서 시간(분단위, 단위는 입력  x)\n",
       "count  162.000000  162.000000  162.000000  162.000000             162.000000\n",
       "mean    11.586420  137.666667  171.802469   34.135802              30.135802\n",
       "std      8.914811  103.507494  103.666321   35.636799              22.917759\n",
       "min      0.000000    1.000000    8.000000    4.000000               5.000000\n",
       "25%      2.250000   56.000000   94.250000   15.000000              15.000000\n",
       "50%      8.500000  125.000000  162.500000   25.500000              26.000000\n",
       "75%     22.000000  201.500000  234.250000   42.000000              31.000000\n",
       "max     23.000000  513.000000  553.000000  323.000000             230.000000"
      ]
     },
     "execution_count": 73,
     "metadata": {},
     "output_type": "execute_result"
    }
   ],
   "source": [
    "record.describe()"
   ]
  },
  {
   "cell_type": "code",
   "execution_count": 74,
   "id": "2939c78e-d76e-449c-b64b-565172ed4087",
   "metadata": {},
   "outputs": [
    {
     "data": {
      "text/plain": [
       "Index(['타임스탬프', '이름', '독서_날짜', '책 제목', '시작 페이지', '종료 페이지', '쪽수',\n",
       "       '독서 시간(분단위, 단위는 입력  x)', '오늘의 문장', '날짜'],\n",
       "      dtype='object')"
      ]
     },
     "execution_count": 74,
     "metadata": {},
     "output_type": "execute_result"
    }
   ],
   "source": [
    "record.columns"
   ]
  },
  {
   "cell_type": "code",
   "execution_count": 75,
   "id": "08d5e19c-6f5e-490d-ad8f-ecdaab65720d",
   "metadata": {},
   "outputs": [],
   "source": [
    "df = record[['타임스탬프', '이름', '책 제목', '쪽수', '독서 시간(분단위, 단위는 입력  x)', '오늘의 문장', '날짜']]"
   ]
  },
  {
   "cell_type": "code",
   "execution_count": 76,
   "id": "d5be7998-ec18-4a08-b5e2-ed77f3ed16d8",
   "metadata": {},
   "outputs": [],
   "source": [
    "df=df.rename(columns = {'타임스탬프':'time-stamp', '이름':'user_name', '책 제목':'title','독서 시간(분단위, 단위는 입력  x)': 'reading-times', '쪽수':'reading-pages', '오늘의 문장':'daily_sentence', '날짜':'write_date'})"
   ]
  },
  {
   "cell_type": "code",
   "execution_count": 77,
   "id": "d53d407c-d875-4ddc-b371-3eaaa6fa9ccb",
   "metadata": {},
   "outputs": [
    {
     "data": {
      "text/plain": [
       "Index(['time-stamp', 'user_name', 'title', 'reading-pages', 'reading-times',\n",
       "       'daily_sentence', 'write_date'],\n",
       "      dtype='object')"
      ]
     },
     "execution_count": 77,
     "metadata": {},
     "output_type": "execute_result"
    }
   ],
   "source": [
    "df.columns"
   ]
  },
  {
   "cell_type": "code",
   "execution_count": 78,
   "id": "ceb4f8c1-7002-46a0-8b4d-288dc1089b42",
   "metadata": {},
   "outputs": [
    {
     "data": {
      "text/plain": [
       "user_name  title                                                            \n",
       "김동혁        성과를 부르는 영업의 기술 70                                                     9\n",
       "           성공하는 한국인의 7가지 습관                                                      4\n",
       "           생각하지 않는 사람들                                                           3\n",
       "김예지        생각하지 않는 사람들                                                          11\n",
       "           욕망의 진화                                                               11\n",
       "           타이탄의 도구들                                                              9\n",
       "           Think and grow rich                                                   8\n",
       "           언스크립티드                                                                8\n",
       "           역행자                                                                   5\n",
       "           일 잘하는 사람은 글을 잘 씁니다                                                    4\n",
       "           초집중력                                                                  4\n",
       "           일취월장                                                                  2\n",
       "김효임        멘탈의 연금술                                                               9\n",
       "           생각하지 않는 사람들                                                           9\n",
       "           팔지마라 사게하라                                                             3\n",
       "           메타버스 비지니스                                                             1\n",
       "           멘탈의 연금술사                                                              1\n",
       "           멘탈의성공술                                                                1\n",
       "           비즈니스 명저 100                                                           1\n",
       "           실무에서 바로 써먹는 경리                                                        1\n",
       "           제3의 세계 메타버스 비즈니스                                                      1\n",
       "           현대인의 심리학                                                              1\n",
       "박결         생각하지 않는 사람들                                                           6\n",
       "           스시 사이언스                                                               6\n",
       "           야사와 만화로 배우는 인공지능                                                      4\n",
       "           저가 매수의 기술                                                             3\n",
       "           시간과 물에 대하여                                                            2\n",
       "           A transformer-based network for dynamic hand gestures recognition     1\n",
       "           통계학, 빅데이터를 잡다                                                         1\n",
       "박한         생각하지 않는 사람들                                                          14\n",
       "           이어쓰는 조경학개론                                                            5\n",
       "           환경과 조경                                                                5\n",
       "           나는 왜 집중하지 못하는가                                                        3\n",
       "           꿈의 식물                                                                 2\n",
       "           자연정원을 위한 꿈의 식물                                                        2\n",
       "           존도어의 okr                                                              2\n",
       "Name: title, dtype: int64"
      ]
     },
     "execution_count": 78,
     "metadata": {},
     "output_type": "execute_result"
    }
   ],
   "source": [
    "df.groupby('user_name').title.value_counts()"
   ]
  },
  {
   "cell_type": "code",
   "execution_count": 79,
   "id": "acd7893f-0606-4175-9ca6-68c019ab7c65",
   "metadata": {},
   "outputs": [
    {
     "data": {
      "text/plain": [
       "user_name  time-stamp\n",
       "김동혁        23             9\n",
       "           0              4\n",
       "           19             2\n",
       "           22             1\n",
       "김예지        7             16\n",
       "           8             12\n",
       "           9              9\n",
       "           6              7\n",
       "           22             4\n",
       "           23             4\n",
       "           0              2\n",
       "           12             2\n",
       "           15             2\n",
       "           5              1\n",
       "           10             1\n",
       "           14             1\n",
       "           16             1\n",
       "김효임        0             12\n",
       "           1              8\n",
       "           2              4\n",
       "           23             2\n",
       "           3              1\n",
       "           8              1\n",
       "박결         22             6\n",
       "           1              5\n",
       "           23             4\n",
       "           2              3\n",
       "           0              2\n",
       "           6              1\n",
       "           7              1\n",
       "           9              1\n",
       "박한         22            13\n",
       "           21             8\n",
       "           23             6\n",
       "           10             2\n",
       "           20             2\n",
       "           0              1\n",
       "           18             1\n",
       "Name: time-stamp, dtype: int64"
      ]
     },
     "execution_count": 79,
     "metadata": {},
     "output_type": "execute_result"
    }
   ],
   "source": [
    "#독서 시간대 확인\n",
    "df.groupby('user_name')['time-stamp'].value_counts()"
   ]
  },
  {
   "cell_type": "code",
   "execution_count": 97,
   "id": "7e185955-8ff4-4632-8716-cfb507630805",
   "metadata": {},
   "outputs": [],
   "source": [
    "def get_day(date):\n",
    "    \n",
    "    days = ['Mon', 'Tue', 'Wed', 'Thu', 'Fri', 'Sat', 'Sun']\n",
    "    date = date.rstrip(' ')\n",
    "    date = datetime.strptime(date, '%Y-%m-%d')\n",
    "    day = date.weekday()\n",
    "    return days[day]"
   ]
  },
  {
   "cell_type": "code",
   "execution_count": 98,
   "id": "5753b995-f925-4e07-a87d-cdd36a374c8b",
   "metadata": {},
   "outputs": [
    {
     "data": {
      "text/html": [
       "<div>\n",
       "<style scoped>\n",
       "    .dataframe tbody tr th:only-of-type {\n",
       "        vertical-align: middle;\n",
       "    }\n",
       "\n",
       "    .dataframe tbody tr th {\n",
       "        vertical-align: top;\n",
       "    }\n",
       "\n",
       "    .dataframe thead th {\n",
       "        text-align: right;\n",
       "    }\n",
       "</style>\n",
       "<table border=\"1\" class=\"dataframe\">\n",
       "  <thead>\n",
       "    <tr style=\"text-align: right;\">\n",
       "      <th></th>\n",
       "      <th>time-stamp</th>\n",
       "      <th>user_name</th>\n",
       "      <th>title</th>\n",
       "      <th>reading-pages</th>\n",
       "      <th>reading-times</th>\n",
       "      <th>daily_sentence</th>\n",
       "      <th>write_date</th>\n",
       "    </tr>\n",
       "  </thead>\n",
       "  <tbody>\n",
       "    <tr>\n",
       "      <th>0</th>\n",
       "      <td>22</td>\n",
       "      <td>박한</td>\n",
       "      <td>이어쓰는 조경학개론</td>\n",
       "      <td>17</td>\n",
       "      <td>20</td>\n",
       "      <td>NaN</td>\n",
       "      <td>2022-3-28</td>\n",
       "    </tr>\n",
       "    <tr>\n",
       "      <th>1</th>\n",
       "      <td>0</td>\n",
       "      <td>김동혁</td>\n",
       "      <td>성공하는 한국인의 7가지 습관</td>\n",
       "      <td>11</td>\n",
       "      <td>30</td>\n",
       "      <td>부분보다 전체를 보는 지혜</td>\n",
       "      <td>2022-3-29</td>\n",
       "    </tr>\n",
       "    <tr>\n",
       "      <th>2</th>\n",
       "      <td>0</td>\n",
       "      <td>김효임</td>\n",
       "      <td>멘탈의 연금술</td>\n",
       "      <td>31</td>\n",
       "      <td>15</td>\n",
       "      <td>황금은 채굴되는 것이 아니다. 만들어지는 것이다.\\n\\n</td>\n",
       "      <td>2022-3-29</td>\n",
       "    </tr>\n",
       "    <tr>\n",
       "      <th>3</th>\n",
       "      <td>2</td>\n",
       "      <td>박결</td>\n",
       "      <td>통계학, 빅데이터를 잡다</td>\n",
       "      <td>22</td>\n",
       "      <td>30</td>\n",
       "      <td>NaN</td>\n",
       "      <td>2022-3-29</td>\n",
       "    </tr>\n",
       "    <tr>\n",
       "      <th>4</th>\n",
       "      <td>7</td>\n",
       "      <td>김예지</td>\n",
       "      <td>언스크립티드</td>\n",
       "      <td>32</td>\n",
       "      <td>60</td>\n",
       "      <td>세상은 이미 당신의 것이지만, 그것을 손에 넣는 것은 당신의 몫이다</td>\n",
       "      <td>2022-3-29</td>\n",
       "    </tr>\n",
       "  </tbody>\n",
       "</table>\n",
       "</div>"
      ],
      "text/plain": [
       "   time-stamp user_name             title  reading-pages  reading-times  \\\n",
       "0          22        박한        이어쓰는 조경학개론             17             20   \n",
       "1           0       김동혁  성공하는 한국인의 7가지 습관             11             30   \n",
       "2           0       김효임           멘탈의 연금술             31             15   \n",
       "3           2        박결     통계학, 빅데이터를 잡다             22             30   \n",
       "4           7       김예지            언스크립티드             32             60   \n",
       "\n",
       "                          daily_sentence write_date  \n",
       "0                                    NaN  2022-3-28  \n",
       "1                         부분보다 전체를 보는 지혜  2022-3-29  \n",
       "2        황금은 채굴되는 것이 아니다. 만들어지는 것이다.\\n\\n  2022-3-29  \n",
       "3                                    NaN  2022-3-29  \n",
       "4  세상은 이미 당신의 것이지만, 그것을 손에 넣는 것은 당신의 몫이다  2022-3-29  "
      ]
     },
     "execution_count": 98,
     "metadata": {},
     "output_type": "execute_result"
    }
   ],
   "source": [
    "df.head()"
   ]
  },
  {
   "cell_type": "code",
   "execution_count": 99,
   "id": "4861039d-9e7f-446d-941c-7c5f4abc8e7e",
   "metadata": {},
   "outputs": [
    {
     "data": {
      "text/plain": [
       "datetime.date"
      ]
     },
     "execution_count": 99,
     "metadata": {},
     "output_type": "execute_result"
    }
   ],
   "source": [
    "date"
   ]
  },
  {
   "cell_type": "code",
   "execution_count": 100,
   "id": "320fdaf2-016d-4265-825d-a1d72820405b",
   "metadata": {},
   "outputs": [],
   "source": [
    "df.write_date = df.write_date.apply(lambda x: re.sub('(\\. )', '-', x))"
   ]
  },
  {
   "cell_type": "code",
   "execution_count": 101,
   "id": "77b7635f-0079-4cb5-b9c0-71955a27da60",
   "metadata": {},
   "outputs": [],
   "source": [
    "df['day'] = df.write_date.apply(lambda x: get_day(x))"
   ]
  },
  {
   "cell_type": "code",
   "execution_count": 102,
   "id": "7a6b19e2-297b-48c9-a672-b7dbdc601237",
   "metadata": {},
   "outputs": [
    {
     "data": {
      "text/plain": [
       "user_name  day\n",
       "김동혁        Tue     4\n",
       "           Wed     4\n",
       "           Fri     3\n",
       "           Mon     2\n",
       "           Sun     2\n",
       "           Thu     1\n",
       "김예지        Thu    12\n",
       "           Sun    10\n",
       "           Tue    10\n",
       "           Fri     8\n",
       "           Wed     8\n",
       "           Mon     7\n",
       "           Sat     7\n",
       "김효임        Fri     5\n",
       "           Sun     5\n",
       "           Thu     5\n",
       "           Tue     5\n",
       "           Sat     3\n",
       "           Wed     3\n",
       "           Mon     2\n",
       "박결         Tue     6\n",
       "           Sat     4\n",
       "           Sun     4\n",
       "           Fri     3\n",
       "           Wed     3\n",
       "           Mon     2\n",
       "           Thu     1\n",
       "박한         Sun     7\n",
       "           Fri     6\n",
       "           Mon     6\n",
       "           Wed     5\n",
       "           Tue     4\n",
       "           Sat     3\n",
       "           Thu     2\n",
       "Name: day, dtype: int64"
      ]
     },
     "execution_count": 102,
     "metadata": {},
     "output_type": "execute_result"
    }
   ],
   "source": [
    "df.groupby('user_name').day.value_counts()"
   ]
  },
  {
   "cell_type": "code",
   "execution_count": null,
   "id": "5ac4be00-78a0-4f3e-93db-b382f3e23a74",
   "metadata": {},
   "outputs": [],
   "source": []
  }
 ],
 "metadata": {
  "kernelspec": {
   "display_name": "Python 3 (ipykernel)",
   "language": "python",
   "name": "python3"
  },
  "language_info": {
   "codemirror_mode": {
    "name": "ipython",
    "version": 3
   },
   "file_extension": ".py",
   "mimetype": "text/x-python",
   "name": "python",
   "nbconvert_exporter": "python",
   "pygments_lexer": "ipython3",
   "version": "3.9.7"
  }
 },
 "nbformat": 4,
 "nbformat_minor": 5
}
